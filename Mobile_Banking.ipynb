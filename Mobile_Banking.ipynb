{
 "cells": [
  {
   "cell_type": "code",
   "execution_count": 1,
   "metadata": {},
   "outputs": [],
   "source": [
    "import pandas as pd\n",
    "import numpy as np\n",
    "import matplotlib.pyplot as plt"
   ]
  },
  {
   "cell_type": "code",
   "execution_count": 2,
   "metadata": {},
   "outputs": [],
   "source": [
    "df=pd.read_excel(\"Mobile_Banking .xlsx\")"
   ]
  },
  {
   "cell_type": "code",
   "execution_count": 3,
   "metadata": {},
   "outputs": [
    {
     "data": {
      "text/html": [
       "<div>\n",
       "<style scoped>\n",
       "    .dataframe tbody tr th:only-of-type {\n",
       "        vertical-align: middle;\n",
       "    }\n",
       "\n",
       "    .dataframe tbody tr th {\n",
       "        vertical-align: top;\n",
       "    }\n",
       "\n",
       "    .dataframe thead th {\n",
       "        text-align: right;\n",
       "    }\n",
       "</style>\n",
       "<table border=\"1\" class=\"dataframe\">\n",
       "  <thead>\n",
       "    <tr style=\"text-align: right;\">\n",
       "      <th></th>\n",
       "      <th>Number</th>\n",
       "      <th>Gender</th>\n",
       "      <th>Age Range</th>\n",
       "      <th>Have Bak Account</th>\n",
       "      <th>Bank account connected to MB</th>\n",
       "      <th>use</th>\n",
       "      <th>Importance</th>\n",
       "      <th>Benefit</th>\n",
       "      <th>Bank Visit</th>\n",
       "      <th>MbSafety</th>\n",
       "      <th>Influence</th>\n",
       "      <th>Satisfaction</th>\n",
       "    </tr>\n",
       "  </thead>\n",
       "  <tbody>\n",
       "    <tr>\n",
       "      <th>0</th>\n",
       "      <td>1</td>\n",
       "      <td>Male</td>\n",
       "      <td>21-30</td>\n",
       "      <td>Yes</td>\n",
       "      <td>Current Account</td>\n",
       "      <td>Airtime Purchase</td>\n",
       "      <td>Very</td>\n",
       "      <td>CostCharges</td>\n",
       "      <td>FewTimesAyear</td>\n",
       "      <td>Somewhat</td>\n",
       "      <td>TimeSaving</td>\n",
       "      <td>HighlySatisfactory</td>\n",
       "    </tr>\n",
       "    <tr>\n",
       "      <th>1</th>\n",
       "      <td>2</td>\n",
       "      <td>Female</td>\n",
       "      <td>21-30</td>\n",
       "      <td>Yes</td>\n",
       "      <td>Current Account</td>\n",
       "      <td>Money Transfer</td>\n",
       "      <td>Very</td>\n",
       "      <td>GoodService</td>\n",
       "      <td>FewTimesAyear</td>\n",
       "      <td>Somewhat</td>\n",
       "      <td>TimeSaving</td>\n",
       "      <td>HighlySatisfactory</td>\n",
       "    </tr>\n",
       "    <tr>\n",
       "      <th>2</th>\n",
       "      <td>3</td>\n",
       "      <td>Female</td>\n",
       "      <td>21-30</td>\n",
       "      <td>Yes</td>\n",
       "      <td>Current Account</td>\n",
       "      <td>Making Payments</td>\n",
       "      <td>Very</td>\n",
       "      <td>CostCharges</td>\n",
       "      <td>FewTimesAyear</td>\n",
       "      <td>Very</td>\n",
       "      <td>TimeSaving</td>\n",
       "      <td>HighlySatisfactory</td>\n",
       "    </tr>\n",
       "    <tr>\n",
       "      <th>3</th>\n",
       "      <td>4</td>\n",
       "      <td>Female</td>\n",
       "      <td>21-30</td>\n",
       "      <td>Yes</td>\n",
       "      <td>Current Account</td>\n",
       "      <td>Airtime Purchase</td>\n",
       "      <td>NaN</td>\n",
       "      <td>GoodService</td>\n",
       "      <td>FewTimesAyear</td>\n",
       "      <td>Somewhat</td>\n",
       "      <td>TimeSaving</td>\n",
       "      <td>Satisfactory</td>\n",
       "    </tr>\n",
       "    <tr>\n",
       "      <th>4</th>\n",
       "      <td>5</td>\n",
       "      <td>Female</td>\n",
       "      <td>21-30</td>\n",
       "      <td>Yes</td>\n",
       "      <td>Current Account</td>\n",
       "      <td>Making Payments</td>\n",
       "      <td>Very</td>\n",
       "      <td>CostCharges</td>\n",
       "      <td>FewTimesAyear</td>\n",
       "      <td>Very</td>\n",
       "      <td>TimeSaving</td>\n",
       "      <td>Average</td>\n",
       "    </tr>\n",
       "  </tbody>\n",
       "</table>\n",
       "</div>"
      ],
      "text/plain": [
       "   Number  Gender Age Range Have Bak Account Bank account connected to MB  \\\n",
       "0       1    Male     21-30              Yes              Current Account   \n",
       "1       2  Female     21-30              Yes              Current Account   \n",
       "2       3  Female     21-30              Yes              Current Account   \n",
       "3       4  Female     21-30              Yes              Current Account   \n",
       "4       5  Female     21-30              Yes              Current Account   \n",
       "\n",
       "                use Importance      Benefit     Bank Visit  MbSafety  \\\n",
       "0  Airtime Purchase       Very  CostCharges  FewTimesAyear  Somewhat   \n",
       "1    Money Transfer       Very  GoodService  FewTimesAyear  Somewhat   \n",
       "2   Making Payments       Very  CostCharges  FewTimesAyear      Very   \n",
       "3  Airtime Purchase        NaN  GoodService  FewTimesAyear  Somewhat   \n",
       "4   Making Payments       Very  CostCharges  FewTimesAyear      Very   \n",
       "\n",
       "    Influence        Satisfaction  \n",
       "0  TimeSaving  HighlySatisfactory  \n",
       "1  TimeSaving  HighlySatisfactory  \n",
       "2  TimeSaving  HighlySatisfactory  \n",
       "3  TimeSaving        Satisfactory  \n",
       "4  TimeSaving             Average  "
      ]
     },
     "execution_count": 3,
     "metadata": {},
     "output_type": "execute_result"
    }
   ],
   "source": [
    "df.head(5)"
   ]
  },
  {
   "cell_type": "code",
   "execution_count": 4,
   "metadata": {},
   "outputs": [
    {
     "data": {
      "text/html": [
       "<div>\n",
       "<style scoped>\n",
       "    .dataframe tbody tr th:only-of-type {\n",
       "        vertical-align: middle;\n",
       "    }\n",
       "\n",
       "    .dataframe tbody tr th {\n",
       "        vertical-align: top;\n",
       "    }\n",
       "\n",
       "    .dataframe thead th {\n",
       "        text-align: right;\n",
       "    }\n",
       "</style>\n",
       "<table border=\"1\" class=\"dataframe\">\n",
       "  <thead>\n",
       "    <tr style=\"text-align: right;\">\n",
       "      <th></th>\n",
       "      <th>Number</th>\n",
       "      <th>Gender</th>\n",
       "      <th>Age Range</th>\n",
       "      <th>Have Bak Account</th>\n",
       "      <th>Bank account connected to MB</th>\n",
       "      <th>use</th>\n",
       "      <th>Importance</th>\n",
       "      <th>Benefit</th>\n",
       "      <th>Bank Visit</th>\n",
       "      <th>MbSafety</th>\n",
       "      <th>Influence</th>\n",
       "      <th>Satisfaction</th>\n",
       "    </tr>\n",
       "  </thead>\n",
       "  <tbody>\n",
       "    <tr>\n",
       "      <th>38</th>\n",
       "      <td>40</td>\n",
       "      <td>Male</td>\n",
       "      <td>21-30</td>\n",
       "      <td>Yes</td>\n",
       "      <td>Current Account</td>\n",
       "      <td>Cash Withdraw</td>\n",
       "      <td>Somewhat</td>\n",
       "      <td>GoodService</td>\n",
       "      <td>FewTimesAyear</td>\n",
       "      <td>Very</td>\n",
       "      <td>TimeSaving</td>\n",
       "      <td>Satisfactory</td>\n",
       "    </tr>\n",
       "    <tr>\n",
       "      <th>39</th>\n",
       "      <td>43</td>\n",
       "      <td>Female</td>\n",
       "      <td>21-30</td>\n",
       "      <td>Yes</td>\n",
       "      <td>Savings Account</td>\n",
       "      <td>Money Transfer</td>\n",
       "      <td>Very</td>\n",
       "      <td>GoodService</td>\n",
       "      <td>OnceMonth</td>\n",
       "      <td>Very</td>\n",
       "      <td>TimeSaving</td>\n",
       "      <td>HighlySatisfactory</td>\n",
       "    </tr>\n",
       "    <tr>\n",
       "      <th>40</th>\n",
       "      <td>45</td>\n",
       "      <td>Male</td>\n",
       "      <td>21-30</td>\n",
       "      <td>Yes</td>\n",
       "      <td>None</td>\n",
       "      <td>Money Transfer</td>\n",
       "      <td>Very</td>\n",
       "      <td>GoodService</td>\n",
       "      <td>FewTimesAyear</td>\n",
       "      <td>Somewhat</td>\n",
       "      <td>TimeSaving</td>\n",
       "      <td>Satisfactory</td>\n",
       "    </tr>\n",
       "    <tr>\n",
       "      <th>41</th>\n",
       "      <td>46</td>\n",
       "      <td>Female</td>\n",
       "      <td>31-40</td>\n",
       "      <td>Yes</td>\n",
       "      <td>Current Account</td>\n",
       "      <td>Making Payments</td>\n",
       "      <td>Very</td>\n",
       "      <td>CostCharges</td>\n",
       "      <td>FewTimesAyear</td>\n",
       "      <td>Very</td>\n",
       "      <td>CostSaving</td>\n",
       "      <td>Satisfactory</td>\n",
       "    </tr>\n",
       "    <tr>\n",
       "      <th>42</th>\n",
       "      <td>47</td>\n",
       "      <td>Male</td>\n",
       "      <td>21-30</td>\n",
       "      <td>Yes</td>\n",
       "      <td>Current Account</td>\n",
       "      <td>Cash Withdraw</td>\n",
       "      <td>Very</td>\n",
       "      <td>GoodService</td>\n",
       "      <td>FewTimesAyear</td>\n",
       "      <td>Somewhat</td>\n",
       "      <td>TimeSaving</td>\n",
       "      <td>Satisfactory</td>\n",
       "    </tr>\n",
       "  </tbody>\n",
       "</table>\n",
       "</div>"
      ],
      "text/plain": [
       "    Number  Gender Age Range Have Bak Account Bank account connected to MB  \\\n",
       "38      40    Male     21-30              Yes              Current Account   \n",
       "39      43  Female     21-30              Yes              Savings Account   \n",
       "40      45    Male     21-30              Yes                         None   \n",
       "41      46  Female     31-40              Yes              Current Account   \n",
       "42      47    Male     21-30              Yes              Current Account   \n",
       "\n",
       "                use Importance      Benefit     Bank Visit  MbSafety  \\\n",
       "38    Cash Withdraw   Somewhat  GoodService  FewTimesAyear      Very   \n",
       "39   Money Transfer       Very  GoodService      OnceMonth      Very   \n",
       "40   Money Transfer       Very  GoodService  FewTimesAyear  Somewhat   \n",
       "41  Making Payments       Very  CostCharges  FewTimesAyear      Very   \n",
       "42    Cash Withdraw       Very  GoodService  FewTimesAyear  Somewhat   \n",
       "\n",
       "     Influence        Satisfaction  \n",
       "38  TimeSaving        Satisfactory  \n",
       "39  TimeSaving  HighlySatisfactory  \n",
       "40  TimeSaving        Satisfactory  \n",
       "41  CostSaving        Satisfactory  \n",
       "42  TimeSaving        Satisfactory  "
      ]
     },
     "execution_count": 4,
     "metadata": {},
     "output_type": "execute_result"
    }
   ],
   "source": [
    "df.tail(5)"
   ]
  },
  {
   "cell_type": "code",
   "execution_count": 5,
   "metadata": {},
   "outputs": [
    {
     "data": {
      "text/html": [
       "<div>\n",
       "<style scoped>\n",
       "    .dataframe tbody tr th:only-of-type {\n",
       "        vertical-align: middle;\n",
       "    }\n",
       "\n",
       "    .dataframe tbody tr th {\n",
       "        vertical-align: top;\n",
       "    }\n",
       "\n",
       "    .dataframe thead th {\n",
       "        text-align: right;\n",
       "    }\n",
       "</style>\n",
       "<table border=\"1\" class=\"dataframe\">\n",
       "  <thead>\n",
       "    <tr style=\"text-align: right;\">\n",
       "      <th></th>\n",
       "      <th>Number</th>\n",
       "    </tr>\n",
       "  </thead>\n",
       "  <tbody>\n",
       "    <tr>\n",
       "      <th>count</th>\n",
       "      <td>43.000000</td>\n",
       "    </tr>\n",
       "    <tr>\n",
       "      <th>mean</th>\n",
       "      <td>22.674419</td>\n",
       "    </tr>\n",
       "    <tr>\n",
       "      <th>std</th>\n",
       "      <td>13.412363</td>\n",
       "    </tr>\n",
       "    <tr>\n",
       "      <th>min</th>\n",
       "      <td>1.000000</td>\n",
       "    </tr>\n",
       "    <tr>\n",
       "      <th>25%</th>\n",
       "      <td>11.500000</td>\n",
       "    </tr>\n",
       "    <tr>\n",
       "      <th>50%</th>\n",
       "      <td>22.000000</td>\n",
       "    </tr>\n",
       "    <tr>\n",
       "      <th>75%</th>\n",
       "      <td>33.500000</td>\n",
       "    </tr>\n",
       "    <tr>\n",
       "      <th>max</th>\n",
       "      <td>47.000000</td>\n",
       "    </tr>\n",
       "  </tbody>\n",
       "</table>\n",
       "</div>"
      ],
      "text/plain": [
       "          Number\n",
       "count  43.000000\n",
       "mean   22.674419\n",
       "std    13.412363\n",
       "min     1.000000\n",
       "25%    11.500000\n",
       "50%    22.000000\n",
       "75%    33.500000\n",
       "max    47.000000"
      ]
     },
     "execution_count": 5,
     "metadata": {},
     "output_type": "execute_result"
    }
   ],
   "source": [
    "df.describe()"
   ]
  },
  {
   "cell_type": "code",
   "execution_count": 8,
   "metadata": {},
   "outputs": [
    {
     "data": {
      "image/png": "[encoded data removed]",
      "text/plain": [
       "<Figure size 432x288 with 1 Axes>"
      ]
     },
     "metadata": {
      "needs_background": "light"
     },
     "output_type": "display_data"
    }
   ],
   "source": [
    "df.plot(x=\"Gender\",y=\"Number\")\n",
    "plt.show()"
   ]
  },
  {
   "cell_type": "code",
   "execution_count": 22,
   "metadata": {},
   "outputs": [
    {
     "data": {
      "text/plain": [
       "<matplotlib.axes._subplots.AxesSubplot at 0x1749eb508b0>"
      ]
     },
     "execution_count": 22,
     "metadata": {},
     "output_type": "execute_result"
    },
    {
     "data": {
      "image/png": "[encoded data removed]",
      "text/plain": [
       "<Figure size 432x288 with 1 Axes>"
      ]
     },
     "metadata": {
      "needs_background": "light"
     },
     "output_type": "display_data"
    }
   ],
   "source": [
    "Number_column=df[\"Number\"]\n",
    "type(Number_column)\n",
    "Number_column.plot(kind=\"hist\")"
   ]
  },
  {
   "cell_type": "code",
   "execution_count": 26,
   "metadata": {},
   "outputs": [
    {
     "data": {
      "text/plain": [
       "<matplotlib.axes._subplots.AxesSubplot at 0x1749eb47520>"
      ]
     },
     "execution_count": 26,
     "metadata": {},
     "output_type": "execute_result"
    },
    {
     "data": {
      "image/png": "[encoded data removed]",
      "text/plain": [
       "<Figure size 432x288 with 1 Axes>"
      ]
     },
     "metadata": {
      "needs_background": "light"
     },
     "output_type": "display_data"
    }
   ],
   "source": [
    "top_5=df.sort_values(by=\"Number\",ascending=False).head()\n",
    "top_5.plot(x=\"Gender\",y=\"Number\",kind=\"bar\",rot=5,fontsize=4)"
   ]
  },
  {
   "cell_type": "code",
   "execution_count": 34,
   "metadata": {},
   "outputs": [
    {
     "data": {
      "text/plain": [
       "<function matplotlib.pyplot.show(*args, **kw)>"
      ]
     },
     "execution_count": 34,
     "metadata": {},
     "output_type": "execute_result"
    },
    {
     "data": {
      "image/png": "[encoded data removed]",
      "text/plain": [
       "<Figure size 432x288 with 1 Axes>"
      ]
     },
     "metadata": {},
     "output_type": "display_data"
    }
   ],
   "source": [
    "numpy_arr=np.array([23,45,78,100,70])\n",
    "plt.pie(numpy_arr,labels=numpy_arr)\n",
    "plt.show"
   ]
  },
  {
   "cell_type": "code",
   "execution_count": null,
   "metadata": {},
   "outputs": [],
   "source": []
  }
 ],
 "metadata": {
  "kernelspec": {
   "display_name": "Python 3",
   "language": "python",
   "name": "python3"
  },
  "language_info": {
   "codemirror_mode": {
    "name": "ipython",
    "version": 3
   },
   "file_extension": ".py",
   "mimetype": "text/x-python",
   "name": "python",
   "nbconvert_exporter": "python",
   "pygments_lexer": "ipython3",
   "version": "3.8.3"
  }
 },
 "nbformat": 4,
 "nbformat_minor": 4
}
